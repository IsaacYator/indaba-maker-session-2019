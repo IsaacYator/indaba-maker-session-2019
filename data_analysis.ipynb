{
 "cells": [
  {
   "cell_type": "markdown",
   "metadata": {},
   "source": [
    "# Data Analysis\n",
    "\n",
    "This notebook provides code to analyze data collected using sensors deployed during the Indaba 2019 maker session\n",
    "\n",
    "We have deployed the following sensors\n",
    "1. Ambient Temperature\n",
    "1. Relative Humidity\n",
    "\n",
    "\n",
    "The sensors are connected to a [Nucleo F446re](https://os.mbed.com/platforms/ST-Nucleo-F446RE/) development board running code contained in this [repo](https://github.com/ciiram/indaba-maker-session-2019).\n",
    "\n",
    "The data collected from the sensors has been stored on an InfluxDB on your machine. We will connect to this DB, visualise the data and use Gaussian processes to interpolate simulated missing values and make predictions.\n",
    "\n",
    "## Requirements\n",
    "\n",
    "1. [pandas](https://pandas.pydata.org/)\n",
    "1. [matplotlib](https://matplotlib.org/)\n",
    "1. [GPy](https://sheffieldml.github.io/GPy/)\n",
    "1. [influxdb](https://www.influxdata.com/blog/getting-started-python-influxdb/)"
   ]
  },
  {
   "cell_type": "code",
   "execution_count": 2,
   "metadata": {},
   "outputs": [],
   "source": [
    "%matplotlib inline\n",
    "import pandas as pd\n",
    "import matplotlib.pyplot as plt\n",
    "\n",
    "from pandas import DataFrame, Series\n",
    "from pandas.io.json import json_normalize\n",
    "\n",
    "from influxdb import InfluxDBClient\n",
    "from datetime import datetime, timedelta"
   ]
  },
  {
   "cell_type": "markdown",
   "metadata": {},
   "source": [
    "## Plots of Ambient Temperature \n",
    "\n",
    "We will examine plots of ambient temperature recorded by our device. First we connect to our database to access the data stored."
   ]
  },
  {
   "cell_type": "code",
   "execution_count": 29,
   "metadata": {},
   "outputs": [],
   "source": [
    "client = InfluxDBClient(host='localhost', port=8086)\n",
    "client.switch_database('indaba_session')"
   ]
  },
  {
   "cell_type": "markdown",
   "metadata": {},
   "source": [
    "Let us try a few queries"
   ]
  },
  {
   "cell_type": "code",
   "execution_count": 30,
   "metadata": {},
   "outputs": [
    {
     "name": "stdout",
     "output_type": "stream",
     "text": [
      "{'statement_id': 0, 'series': [{'name': 'Indaba Session', 'columns': ['time', 'last'], 'values': [['2019-08-13T10:32:05.997741056Z', 19]]}]}\n"
     ]
    }
   ],
   "source": [
    "# Get the last entry\n",
    "\n",
    "result = client.query('select last(\"Temperature\") from \"Indaba Session\"')\n",
    "print(result.raw)"
   ]
  },
  {
   "cell_type": "code",
   "execution_count": 36,
   "metadata": {},
   "outputs": [
    {
     "name": "stdout",
     "output_type": "stream",
     "text": [
      "{'statement_id': 0, 'series': [{'name': 'Indaba Session', 'columns': ['time', 'Relative Humidity', 'Temperature', 'data_rate', 'rssi', 'sensor', 'snr'], 'values': [['2019-08-13T09:51:12.862162944Z', 67, 19, 'SF12BW125', -106, 'dev-01', 4.5], ['2019-08-13T09:52:18.947958016Z', 66, 19, 'SF12BW125', -106, 'dev-01', 3.5], ['2019-08-13T09:54:31.183408128Z', 66, 19, 'SF12BW125', -105, 'dev-01', 4], ['2019-08-13T09:55:40.328742912Z', 66, 19, 'SF12BW125', -106, 'dev-01', 4.8], ['2019-08-13T09:56:46.411796992Z', 66, 19, 'SF12BW125', -104, 'dev-01', 3.2], ['2019-08-13T09:57:52.53283584Z', 66, 19, 'SF12BW125', -105, 'dev-01', 4], ['2019-08-13T09:59:01.675297024Z', 67, 19, 'SF12BW125', -105, 'dev-01', 3.8], ['2019-08-13T10:01:21.906335232Z', 67, 19, 'SF12BW125', -105, 'dev-01', 4.2], ['2019-08-13T10:02:28.003032064Z', 67, 19, 'SF12BW125', -108, 'dev-01', 3.5], ['2019-08-13T10:04:45.237918976Z', 67, 19, 'SF12BW125', -103, 'dev-01', 4.2], ['2019-08-13T10:05:57.406553856Z', 67, 19, 'SF12BW125', -103, 'dev-01', 3.5], ['2019-08-13T10:07:03.451276032Z', 67, 19, 'SF12BW125', -106, 'dev-01', 4], ['2019-08-13T10:10:34.828528896Z', 67, 19, 'SF12BW125', -106, 'dev-01', 5], ['2019-08-13T10:11:40.915860992Z', 67, 19, 'SF12BW125', -107, 'dev-01', 4.2], ['2019-08-13T10:12:47.037154048Z', 67, 19, 'SF12BW125', -105, 'dev-01', 4.5], ['2019-08-13T10:15:07.294104064Z', 67, 19, 'SF12BW125', -105, 'dev-01', 4.2], ['2019-08-13T10:16:16.41231616Z', 67, 19, 'SF12BW125', -105, 'dev-01', 4.2], ['2019-08-13T10:17:22.488544Z', 67, 19, 'SF12BW125', -105, 'dev-01', 5], ['2019-08-13T10:18:28.611558912Z', 67, 19, 'SF12BW125', -106, 'dev-01', 4.8], ['2019-08-13T10:19:40.79304704Z', 66, 19, 'SF12BW125', -109, 'dev-01', 1.8], ['2019-08-13T10:20:49.882507008Z', 66, 19, 'SF12BW125', -109, 'dev-01', 2.2], ['2019-08-13T10:21:55.95588992Z', 66, 19, 'SF12BW125', -105, 'dev-01', 4.2], ['2019-08-13T10:23:02.076633856Z', 66, 19, 'SF12BW125', -107, 'dev-01', 4], ['2019-08-13T10:24:11.223081984Z', 66, 19, 'SF12BW125', -105, 'dev-01', 3.5], ['2019-08-13T10:25:20.330708992Z', 66, 19, 'SF12BW125', -107, 'dev-01', 5.2], ['2019-08-13T10:26:29.453620992Z', 66, 19, 'SF12BW125', -104, 'dev-01', 4.8], ['2019-08-13T10:27:35.5301248Z', 66, 19, 'SF12BW125', -107, 'dev-01', 3.5], ['2019-08-13T10:28:44.676966912Z', 66, 19, 'SF12BW125', -103, 'dev-01', 3.8], ['2019-08-13T10:29:53.797094144Z', 66, 19, 'SF12BW125', -105, 'dev-01', 4.8], ['2019-08-13T10:30:59.88397696Z', 66, 19, 'SF12BW125', -106, 'dev-01', 4.8], ['2019-08-13T10:32:05.997741056Z', 66, 19, 'SF12BW125', -108, 'dev-01', 4]]}]}\n"
     ]
    }
   ],
   "source": [
    "# Get the entries from the last hour\n",
    "\n",
    "result = client.query('select * from \"Indaba Session\" where time > now() - 3h')\n",
    "print(result.raw)"
   ]
  },
  {
   "cell_type": "code",
   "execution_count": 38,
   "metadata": {},
   "outputs": [],
   "source": [
    "result_list = list(result.get_points())\n",
    "\n",
    "# turn to pandas dataframe\n",
    "df = pd.DataFrame(result_list)\n",
    "\n",
    "# make time a datetime object\n",
    "df[['time']] = df[['time']].apply(pd.to_datetime)"
   ]
  },
  {
   "cell_type": "code",
   "execution_count": 39,
   "metadata": {},
   "outputs": [
    {
     "data": {
      "image/png": "[encoded data removed]",
      "text/plain": [
       "<Figure size 432x288 with 1 Axes>"
      ]
     },
     "metadata": {
      "needs_background": "light"
     },
     "output_type": "display_data"
    }
   ],
   "source": [
    "%matplotlib inline\n",
    "plt.figure()\n",
    "plt.plot(df['time'] + timedelta(hours=3), df['Temperature'], 'bo');\n",
    "plt.xticks(rotation=45);\n",
    "plt.ylim([0, 40]);\n",
    "plt.xlabel('Time');\n",
    "plt.ylabel('Ambient Temperature (Celcius)');"
   ]
  },
  {
   "cell_type": "markdown",
   "metadata": {},
   "source": [
    "## Modelling\n",
    "\n",
    "We will experiment with curve fitting using the data we have collected. We will fit Gaussian process models with various kernels and assess the fits. We will work with the temperature data."
   ]
  },
  {
   "cell_type": "code",
   "execution_count": 42,
   "metadata": {},
   "outputs": [
    {
     "data": {
      "text/plain": [
       "[                                  time  Relative Humidity  Temperature  \\\n",
       " 0  2019-08-13 09:51:12.862162944+00:00                 67           19   \n",
       " 1  2019-08-13 09:52:18.947958016+00:00                 66           19   \n",
       " 2  2019-08-13 09:54:31.183408128+00:00                 66           19   \n",
       " 3  2019-08-13 09:55:40.328742912+00:00                 66           19   \n",
       " 4  2019-08-13 09:56:46.411796992+00:00                 66           19   \n",
       " 5  2019-08-13 09:57:52.532835840+00:00                 66           19   \n",
       " 6  2019-08-13 09:59:01.675297024+00:00                 67           19   \n",
       " 7  2019-08-13 10:01:21.906335232+00:00                 67           19   \n",
       " 8  2019-08-13 10:02:28.003032064+00:00                 67           19   \n",
       " 9  2019-08-13 10:04:45.237918976+00:00                 67           19   \n",
       " 10 2019-08-13 10:05:57.406553856+00:00                 67           19   \n",
       " 11 2019-08-13 10:07:03.451276032+00:00                 67           19   \n",
       " 12 2019-08-13 10:10:34.828528896+00:00                 67           19   \n",
       " 13 2019-08-13 10:11:40.915860992+00:00                 67           19   \n",
       " 14 2019-08-13 10:12:47.037154048+00:00                 67           19   \n",
       " 15 2019-08-13 10:15:07.294104064+00:00                 67           19   \n",
       " 16 2019-08-13 10:16:16.412316160+00:00                 67           19   \n",
       " 17    2019-08-13 10:17:22.488544+00:00                 67           19   \n",
       " 18 2019-08-13 10:18:28.611558912+00:00                 67           19   \n",
       " 19 2019-08-13 10:19:40.793047040+00:00                 66           19   \n",
       " 20 2019-08-13 10:20:49.882507008+00:00                 66           19   \n",
       " 21 2019-08-13 10:21:55.955889920+00:00                 66           19   \n",
       " 22 2019-08-13 10:23:02.076633856+00:00                 66           19   \n",
       " 23 2019-08-13 10:24:11.223081984+00:00                 66           19   \n",
       " 24 2019-08-13 10:25:20.330708992+00:00                 66           19   \n",
       " 25 2019-08-13 10:26:29.453620992+00:00                 66           19   \n",
       " 26 2019-08-13 10:27:35.530124800+00:00                 66           19   \n",
       " 27 2019-08-13 10:28:44.676966912+00:00                 66           19   \n",
       " 28 2019-08-13 10:29:53.797094144+00:00                 66           19   \n",
       " 29 2019-08-13 10:30:59.883976960+00:00                 66           19   \n",
       " 30 2019-08-13 10:32:05.997741056+00:00                 66           19   \n",
       " \n",
       "     data_rate  rssi  sensor  snr  \n",
       " 0   SF12BW125  -106  dev-01  4.5  \n",
       " 1   SF12BW125  -106  dev-01  3.5  \n",
       " 2   SF12BW125  -105  dev-01  4.0  \n",
       " 3   SF12BW125  -106  dev-01  4.8  \n",
       " 4   SF12BW125  -104  dev-01  3.2  \n",
       " 5   SF12BW125  -105  dev-01  4.0  \n",
       " 6   SF12BW125  -105  dev-01  3.8  \n",
       " 7   SF12BW125  -105  dev-01  4.2  \n",
       " 8   SF12BW125  -108  dev-01  3.5  \n",
       " 9   SF12BW125  -103  dev-01  4.2  \n",
       " 10  SF12BW125  -103  dev-01  3.5  \n",
       " 11  SF12BW125  -106  dev-01  4.0  \n",
       " 12  SF12BW125  -106  dev-01  5.0  \n",
       " 13  SF12BW125  -107  dev-01  4.2  \n",
       " 14  SF12BW125  -105  dev-01  4.5  \n",
       " 15  SF12BW125  -105  dev-01  4.2  \n",
       " 16  SF12BW125  -105  dev-01  4.2  \n",
       " 17  SF12BW125  -105  dev-01  5.0  \n",
       " 18  SF12BW125  -106  dev-01  4.8  \n",
       " 19  SF12BW125  -109  dev-01  1.8  \n",
       " 20  SF12BW125  -109  dev-01  2.2  \n",
       " 21  SF12BW125  -105  dev-01  4.2  \n",
       " 22  SF12BW125  -107  dev-01  4.0  \n",
       " 23  SF12BW125  -105  dev-01  3.5  \n",
       " 24  SF12BW125  -107  dev-01  5.2  \n",
       " 25  SF12BW125  -104  dev-01  4.8  \n",
       " 26  SF12BW125  -107  dev-01  3.5  \n",
       " 27  SF12BW125  -103  dev-01  3.8  \n",
       " 28  SF12BW125  -105  dev-01  4.8  \n",
       " 29  SF12BW125  -106  dev-01  4.8  \n",
       " 30  SF12BW125  -108  dev-01  4.0  ]"
      ]
     },
     "execution_count": 42,
     "metadata": {},
     "output_type": "execute_result"
    }
   ],
   "source": [
    "\n",
    "sensor_groups = df.groupby('sensor')\n",
    "[grp for name, grp in sensor_groups]"
   ]
  },
  {
   "cell_type": "code",
   "execution_count": 43,
   "metadata": {},
   "outputs": [],
   "source": [
    "import GPy\n",
    "import numpy as np\n",
    "from IPython.display import display\n",
    "\n",
    "#prepare the data\n",
    "sensor_groups = df.groupby('sensor')\n",
    "\n",
    "# get data corresponding to device 1\n",
    "dev_01 = [grp for name, grp in sensor_groups][0] \n",
    "dev_01 = dev_01.sort_values(by='time');\n",
    "\n",
    "#get the temperature and time\n",
    "temperature = dev_01.values[:,2]\n",
    "time_day = [value.timestamp() for value in dev_01.values[:,0]] # get the timestamps\n",
    "time_day = np.array(time_day)\n",
    "\n",
    "#normalize to days\n",
    "time_day = time_day - min(time_day)\n",
    "time_day /= (24 * 60 * 60)\n",
    "\n",
    "# get the first 7 days\n",
    "temperature = temperature[time_day < 7]\n",
    "time_day = time_day[time_day < 7]\n"
   ]
  },
  {
   "cell_type": "markdown",
   "metadata": {},
   "source": [
    "We visualise the data"
   ]
  },
  {
   "cell_type": "code",
   "execution_count": 50,
   "metadata": {},
   "outputs": [
    {
     "data": {
      "image/png": "[encoded data removed]",
      "text/plain": [
       "<Figure size 432x288 with 1 Axes>"
      ]
     },
     "metadata": {
      "needs_background": "light"
     },
     "output_type": "display_data"
    }
   ],
   "source": [
    "plt.figure()\n",
    "plt.plot(time_day, temperature, 'bo')\n",
    "plt.xlim([-.05,.05])\n",
    "plt.ylim([0, 30])\n",
    "plt.xlabel('Time (days)');\n",
    "plt.ylabel('Temperature (Celcius)');"
   ]
  },
  {
   "cell_type": "markdown",
   "metadata": {},
   "source": [
    "We fit a Gaussian process with a radial basis function kernel. (If the optimization fails, simply restart it.)"
   ]
  },
  {
   "cell_type": "code",
   "execution_count": 51,
   "metadata": {},
   "outputs": [
    {
     "name": "stdout",
     "output_type": "stream",
     "text": [
      "Optimization restart 1/10, f = -242.65411266511651\n",
      "Optimization restart 2/10, f = -242.6329723982657\n",
      "Optimization restart 3/10, f = -242.61292889788308\n",
      "Optimization restart 4/10, f = -242.637584789048\n",
      "Optimization restart 5/10, f = -242.66143804844612\n",
      "Optimization restart 6/10, f = -242.6234860370876\n",
      "Optimization restart 7/10, f = -242.65545746676884\n",
      "Optimization restart 8/10, f = -242.5578630424343\n",
      "Optimization restart 9/10, f = -242.6529363407635\n",
      "Optimization restart 10/10, f = -242.62256413214627\n"
     ]
    },
    {
     "data": {
      "text/html": [
       "<style type=\"text/css\">\n",
       ".pd{\n",
       "    font-family: \"Courier New\", Courier, monospace !important;\n",
       "    width: 100%;\n",
       "    padding: 3px;\n",
       "}\n",
       "</style>\n",
       "\n",
       "<p class=pd>\n",
       "<b>Model</b>: GP regression<br>\n",
       "<b>Objective</b>: -242.66143804844612<br>\n",
       "<b>Number of Parameters</b>: 3<br>\n",
       "<b>Number of Optimization Parameters</b>: 3<br>\n",
       "<b>Updates</b>: True<br>\n",
       "</p>\n",
       "<style type=\"text/css\">\n",
       ".tg  {font-family:\"Courier New\", Courier, monospace !important;padding:2px 3px;word-break:normal;border-collapse:collapse;border-spacing:0;border-color:#DCDCDC;margin:0px auto;width:100%;}\n",
       ".tg td{font-family:\"Courier New\", Courier, monospace !important;font-weight:bold;color:#444;background-color:#F7FDFA;border-style:solid;border-width:1px;overflow:hidden;word-break:normal;border-color:#DCDCDC;}\n",
       ".tg th{font-family:\"Courier New\", Courier, monospace !important;font-weight:normal;color:#fff;background-color:#26ADE4;border-style:solid;border-width:1px;overflow:hidden;word-break:normal;border-color:#DCDCDC;}\n",
       ".tg .tg-left{font-family:\"Courier New\", Courier, monospace !important;font-weight:normal;text-align:left;}\n",
       ".tg .tg-center{font-family:\"Courier New\", Courier, monospace !important;font-weight:normal;text-align:center;}\n",
       ".tg .tg-right{font-family:\"Courier New\", Courier, monospace !important;font-weight:normal;text-align:right;}\n",
       "</style>\n",
       "<table class=\"tg\"><tr><th><b>  GP_regression.         </b></th><th><b>                 value</b></th><th><b>constraints</b></th><th><b>priors</b></th></tr>\n",
       "<tr><td class=tg-left>  rbf.variance           </td><td class=tg-right>    359.04490222179635</td><td class=tg-center>    +ve    </td><td class=tg-center>      </td></tr>\n",
       "<tr><td class=tg-left>  rbf.lengthscale        </td><td class=tg-right>     438764.2239345855</td><td class=tg-center>    +ve    </td><td class=tg-center>      </td></tr>\n",
       "<tr><td class=tg-left>  Gaussian_noise.variance</td><td class=tg-right>5.562684646268137e-309</td><td class=tg-center>    +ve    </td><td class=tg-center>      </td></tr>\n",
       "</table>"
      ],
      "text/plain": [
       "<GPy.models.gp_regression.GPRegression at 0x7f8010b27080>"
      ]
     },
     "metadata": {},
     "output_type": "display_data"
    }
   ],
   "source": [
    "#RBF Kernel\n",
    "kernel = GPy.kern.RBF(input_dim=1, variance=1., lengthscale=1.)\n",
    "m = GPy.models.GPRegression(time_day[:, None],temperature[:, None],kernel)\n",
    "m.optimize_restarts(num_restarts = 10)\n",
    "display(m)"
   ]
  },
  {
   "cell_type": "markdown",
   "metadata": {},
   "source": [
    "Let's plot the fit"
   ]
  },
  {
   "cell_type": "code",
   "execution_count": 52,
   "metadata": {},
   "outputs": [
    {
     "data": {
      "text/plain": [
       "<Figure size 432x288 with 0 Axes>"
      ]
     },
     "metadata": {},
     "output_type": "display_data"
    },
    {
     "data": {
      "image/png": "[encoded data removed]",
      "text/plain": [
       "<Figure size 432x288 with 1 Axes>"
      ]
     },
     "metadata": {
      "needs_background": "light"
     },
     "output_type": "display_data"
    }
   ],
   "source": [
    "plt.figure()\n",
    "m.plot();\n",
    "plt.ylim([-30, 50]);\n",
    "plt.xlabel('Time (days)');\n",
    "plt.ylabel('Temperature (Celcius)');"
   ]
  },
  {
   "cell_type": "markdown",
   "metadata": {},
   "source": [
    "The fit with the RBF kernel does not do a good job of filling in the missing data. In the region without data, the posterior fit is similar to the prior which results in the interpolant passing through zero. It is never that cold in Nyeri!\n",
    "\n",
    "We now try a periodic kernel on the same data which takes into account the observation that temperature variations are periodic. (If the optimization fails, simply restart it.)"
   ]
  },
  {
   "cell_type": "code",
   "execution_count": 53,
   "metadata": {},
   "outputs": [
    {
     "name": "stdout",
     "output_type": "stream",
     "text": [
      "Optimization restart 1/10, f = -241.13298150791442\n",
      "Optimization restart 2/10, f = -233.81062092389828\n",
      "Optimization restart 3/10, f = -231.51853357095058\n",
      "Optimization restart 4/10, f = -111.33586929477599\n",
      "Optimization restart 5/10, f = 135.26470288488278\n",
      "Optimization restart 6/10, f = -239.70793991972926\n",
      "Optimization restart 7/10, f = -235.04543162168414\n",
      "Optimization restart 8/10, f = -118.68600963563594\n",
      "Optimization restart 9/10, f = -229.7879982859082\n"
     ]
    },
    {
     "name": "stderr",
     "output_type": "stream",
     "text": [
      " /home/ciira/Documents/Research/MBED/indaba-maker-session-2019/ttn/lib/python3.7/site-packages/GPy/kern/src/periodic.py:196: RuntimeWarning:overflow encountered in true_divide\n",
      " /home/ciira/Documents/Research/MBED/indaba-maker-session-2019/ttn/lib/python3.7/site-packages/GPy/kern/src/periodic.py:40: RuntimeWarning:invalid value encountered in multiply\n",
      " /home/ciira/Documents/Research/MBED/indaba-maker-session-2019/ttn/lib/python3.7/site-packages/GPy/kern/src/periodic.py:40: RuntimeWarning:invalid value encountered in cos\n"
     ]
    },
    {
     "name": "stdout",
     "output_type": "stream",
     "text": [
      "Optimization restart 10/10, f = -238.71348593821634\n"
     ]
    },
    {
     "data": {
      "text/plain": [
       "[<paramz.optimization.optimization.opt_lbfgsb at 0x7f801098f400>,\n",
       " <paramz.optimization.optimization.opt_lbfgsb at 0x7f801098f160>,\n",
       " <paramz.optimization.optimization.opt_lbfgsb at 0x7f8010b44cf8>,\n",
       " <paramz.optimization.optimization.opt_lbfgsb at 0x7f801098f3c8>,\n",
       " <paramz.optimization.optimization.opt_lbfgsb at 0x7f801098fa90>,\n",
       " <paramz.optimization.optimization.opt_lbfgsb at 0x7f801098f320>,\n",
       " <paramz.optimization.optimization.opt_lbfgsb at 0x7f801098f780>,\n",
       " <paramz.optimization.optimization.opt_lbfgsb at 0x7f801098f668>,\n",
       " <paramz.optimization.optimization.opt_lbfgsb at 0x7f801098f4a8>,\n",
       " <paramz.optimization.optimization.opt_lbfgsb at 0x7f801098f278>]"
      ]
     },
     "execution_count": 53,
     "metadata": {},
     "output_type": "execute_result"
    }
   ],
   "source": [
    "periodic_kernel = GPy.kern.PeriodicMatern32(input_dim=1, variance=1., lengthscale=1., period=1.)\n",
    "m = GPy.models.GPRegression(time_day[:, None],temperature[:, None], periodic_kernel)\n",
    "m.optimize_restarts(num_restarts = 10)"
   ]
  },
  {
   "cell_type": "code",
   "execution_count": 54,
   "metadata": {},
   "outputs": [
    {
     "name": "stderr",
     "output_type": "stream",
     "text": [
      " /home/ciira/Documents/Research/MBED/indaba-maker-session-2019/ttn/lib/python3.7/site-packages/GPy/likelihoods/gaussian.py:119: RuntimeWarning:invalid value encountered in sqrt\n"
     ]
    },
    {
     "data": {
      "text/plain": [
       "<Figure size 432x288 with 0 Axes>"
      ]
     },
     "metadata": {},
     "output_type": "display_data"
    },
    {
     "data": {
      "image/png": "[encoded data removed]",
      "text/plain": [
       "<Figure size 432x288 with 1 Axes>"
      ]
     },
     "metadata": {
      "needs_background": "light"
     },
     "output_type": "display_data"
    }
   ],
   "source": [
    "plt.figure()\n",
    "m.plot();\n",
    "plt.ylim([-30, 50]);\n",
    "plt.xlabel('Time (days)');\n",
    "plt.ylabel('Temperature (Celcius)');"
   ]
  },
  {
   "cell_type": "markdown",
   "metadata": {},
   "source": [
    "The fit is still not good. The prior with a zero mean does not fit the data.\n",
    "We need to add bias. (If the optimization fails, simply restart it.)\n",
    "\n"
   ]
  },
  {
   "cell_type": "code",
   "execution_count": 55,
   "metadata": {},
   "outputs": [
    {
     "name": "stderr",
     "output_type": "stream",
     "text": [
      " /home/ciira/Documents/Research/MBED/indaba-maker-session-2019/ttn/lib/python3.7/site-packages/paramz/transformations.py:111: RuntimeWarning:overflow encountered in expm1\n"
     ]
    },
    {
     "name": "stdout",
     "output_type": "stream",
     "text": [
      "Optimization restart 1/20, f = -240.20907376506017\n",
      "Optimization restart 2/20, f = -242.66167085662684\n",
      "Optimization restart 3/20, f = -242.66167698604374\n",
      "Optimization restart 4/20, f = -242.6616703174318\n",
      "Optimization restart 5/20, f = -242.66166049951534\n",
      "Optimization restart 6/20, f = -242.66166758954503\n",
      "Optimization restart 7/20, f = -242.66167662251868\n",
      "Optimization restart 8/20, f = -242.66167405024416\n",
      "Optimization restart 9/20, f = -242.66167599525315\n"
     ]
    },
    {
     "name": "stderr",
     "output_type": "stream",
     "text": [
      " /home/ciira/Documents/Research/MBED/indaba-maker-session-2019/ttn/lib/python3.7/site-packages/GPy/kern/src/periodic.py:212: RuntimeWarning:overflow encountered in multiply\n",
      " /home/ciira/Documents/Research/MBED/indaba-maker-session-2019/ttn/lib/python3.7/site-packages/GPy/kern/src/periodic.py:204: RuntimeWarning:overflow encountered in square\n",
      " /home/ciira/Documents/Research/MBED/indaba-maker-session-2019/ttn/lib/python3.7/site-packages/GPy/kern/src/periodic.py:212: RuntimeWarning:overflow encountered in true_divide\n"
     ]
    },
    {
     "name": "stdout",
     "output_type": "stream",
     "text": [
      "Optimization restart 10/20, f = -242.6616719168797\n",
      "Optimization restart 11/20, f = -242.66167310859407\n",
      "Optimization restart 12/20, f = -242.6616731791594\n",
      "Optimization restart 13/20, f = -242.66167255269093\n",
      "Optimization restart 14/20, f = -242.66167049827848\n",
      "Optimization restart 15/20, f = -242.66166628999824\n"
     ]
    },
    {
     "name": "stderr",
     "output_type": "stream",
     "text": [
      " /home/ciira/Documents/Research/MBED/indaba-maker-session-2019/ttn/lib/python3.7/site-packages/paramz/transformations.py:108: RuntimeWarning:invalid value encountered in greater\n",
      " /home/ciira/Documents/Research/MBED/indaba-maker-session-2019/ttn/lib/python3.7/site-packages/paramz/transformations.py:113: RuntimeWarning:invalid value encountered in greater\n"
     ]
    },
    {
     "name": "stdout",
     "output_type": "stream",
     "text": [
      "Optimization restart 16/20, f = -242.65482281165842\n",
      "Optimization restart 17/20, f = -242.66167108181435\n",
      "Optimization restart 18/20, f = -242.66167693638488\n",
      "Optimization restart 19/20, f = -242.66144200979534\n",
      "Optimization restart 20/20, f = -242.66164363198186\n"
     ]
    },
    {
     "data": {
      "text/plain": [
       "<Figure size 432x288 with 0 Axes>"
      ]
     },
     "metadata": {},
     "output_type": "display_data"
    },
    {
     "data": {
      "image/png": "[encoded data removed]",
      "text/plain": [
       "<Figure size 432x288 with 1 Axes>"
      ]
     },
     "metadata": {
      "needs_background": "light"
     },
     "output_type": "display_data"
    }
   ],
   "source": [
    "kernel_bias = GPy.kern.Bias(1)\n",
    "\n",
    "m = GPy.models.GPRegression(time_day[:, None],temperature[:, None], periodic_kernel + kernel_bias)\n",
    "m.optimize_restarts(num_restarts = 20)\n",
    "\n",
    "# plot the fit\n",
    "plt.figure()\n",
    "m.plot();\n",
    "plt.ylim([-30, 50]);\n",
    "plt.xlabel('Time (days)');\n",
    "plt.ylabel('Temperature (Celcius)');"
   ]
  },
  {
   "cell_type": "markdown",
   "metadata": {},
   "source": [
    "This is a much better fit and the predicted values in the region with missing data is quite reasonable.\n"
   ]
  },
  {
   "cell_type": "code",
   "execution_count": null,
   "metadata": {},
   "outputs": [],
   "source": []
  },
  {
   "cell_type": "code",
   "execution_count": null,
   "metadata": {
    "collapsed": true
   },
   "outputs": [],
   "source": []
  }
 ],
 "metadata": {
  "kernelspec": {
   "display_name": "Python 3",
   "language": "python",
   "name": "python3"
  },
  "language_info": {
   "codemirror_mode": {
    "name": "ipython",
    "version": 3
   },
   "file_extension": ".py",
   "mimetype": "text/x-python",
   "name": "python",
   "nbconvert_exporter": "python",
   "pygments_lexer": "ipython3",
   "version": "3.7.3"
  }
 },
 "nbformat": 4,
 "nbformat_minor": 2
}
